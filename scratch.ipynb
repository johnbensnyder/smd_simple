{
 "cells": [
  {
   "cell_type": "code",
   "execution_count": null,
   "metadata": {},
   "outputs": [],
   "source": [
    "import sys\n",
    "from pathlib import Path\n",
    "import shutil\n",
    "\n",
    "import torch\n",
    "\n",
    "sys.path.append('./src')\n",
    "\n",
    "from model import build_resnet\n",
    "from data import build_dataloader\n",
    "\n",
    "import smdebug.pytorch as smd\n",
    "from smdebug.core.reduction_config import ReductionConfig\n",
    "from smdebug.core.save_config import SaveConfig\n",
    "from smdebug.core.collection import CollectionKeys\n",
    "from smdebug.core.config_constants import DEFAULT_CONFIG_FILE_PATH"
   ]
  },
  {
   "cell_type": "code",
   "execution_count": null,
   "metadata": {},
   "outputs": [],
   "source": [
    "train_data_src = \"s3://jbsnyder-sagemaker-us-east/data/imagenet/train\"\n",
    "val_data_src = \"s3://jbsnyder-sagemaker-us-east/data/imagenet/val\""
   ]
  },
  {
   "cell_type": "code",
   "execution_count": null,
   "metadata": {},
   "outputs": [],
   "source": [
    "model = build_resnet(resnet_version=50, num_classes=1000)\n",
    "model.to(\"cuda\")\n",
    "train_dataloader = build_dataloader(train_data_src, batch_size=64, num_workers=0, train=True)\n",
    "val_dataloader = build_dataloader(val_data_src, batch_size=64, num_workers=0, train=False)\n",
    "opt = torch.optim.AdamW(model.parameters(), lr=0.004)\n",
    "loss_func = torch.nn.CrossEntropyLoss()"
   ]
  },
  {
   "cell_type": "code",
   "execution_count": null,
   "metadata": {},
   "outputs": [],
   "source": [
    "out_dir='./smdebugger'\n",
    "if out_dir:\n",
    "    shutil.rmtree(out_dir, ignore_errors=True)\n",
    "    assert not Path(out_dir).exists()\n",
    "if Path(DEFAULT_CONFIG_FILE_PATH).exists():\n",
    "    hook = smd.Hook.create_from_json_file()\n",
    "else:\n",
    "    hook = smd.Hook(out_dir=out_dir,\n",
    "                    export_tensorboard=True,\n",
    "                    reduction_config=ReductionConfig(reductions=['mean'], norms=['l2']),\n",
    "                    save_config=SaveConfig(save_interval=25),\n",
    "                    include_regex=None,\n",
    "                    include_collections=[CollectionKeys.LOSSES, \n",
    "                                        CollectionKeys.GRADIENTS, \n",
    "                                        CollectionKeys.WEIGHTS],\n",
    "                    save_all=False,\n",
    "                    include_workers=\"one\")\n",
    "hook.register_module(model)\n",
    "hook.register_loss(loss_func)"
   ]
  },
  {
   "cell_type": "code",
   "execution_count": null,
   "metadata": {},
   "outputs": [],
   "source": [
    "def train_step(batch, model, opt):\n",
    "    opt.zero_grad()\n",
    "    x, y, idx = batch\n",
    "    x = x.to(\"cuda\")\n",
    "    y = y.to(\"cuda\")\n",
    "    with torch.autocast(device_type=\"cuda\", dtype=torch.float16):\n",
    "        pred = model(x)\n",
    "        loss = loss_func(pred, y)\n",
    "    loss.backward()\n",
    "    opt.step()\n",
    "    return loss\n",
    "\n",
    "def train_epoch(dataloader, model):\n",
    "    for batch_idx, batch in enumerate(dataloader): \n",
    "        loss = train_step(batch, model, opt)\n",
    "        if batch_idx%10==0:\n",
    "            print(f\"Step: {batch_idx} \\t Loss {float(loss)}\")\n",
    "\n",
    "def val_step(batch, model):\n",
    "    x, y, idx = batch\n",
    "    x = x.to(\"cuda\")\n",
    "    y = y.to(\"cuda\")\n",
    "    with torch.autocast(device_type=\"cuda\", dtype=torch.float16):\n",
    "        preds = model(x)\n",
    "        loss = loss_func(preds, y)\n",
    "    acc = (y == torch.argmax(preds, 1)).type(torch.FloatTensor)\n",
    "    return acc\n",
    "\n",
    "def val_epoch(dataloader, model):\n",
    "    acc = []\n",
    "    for batch_idx, batch in enumerate(dataloader): \n",
    "        acc.append(val_step(batch, model))\n",
    "    return torch.stack(acc).reshape(-1)"
   ]
  },
  {
   "cell_type": "code",
   "execution_count": null,
   "metadata": {},
   "outputs": [],
   "source": [
    "train_epoch(train_dataloader, model)\n",
    "val_epoch(val_dataloader, model)"
   ]
  },
  {
   "cell_type": "code",
   "execution_count": null,
   "metadata": {},
   "outputs": [],
   "source": []
  }
 ],
 "metadata": {
  "instance_type": "ml.g4dn.12xlarge",
  "kernelspec": {
   "display_name": "Python 3 (PyTorch 1.12 Python 3.8 GPU Optimized)",
   "language": "python",
   "name": "python3__SAGEMAKER_INTERNAL__arn:aws:sagemaker:us-east-1:081325390199:image/pytorch-1.12-gpu-py38"
  },
  "language_info": {
   "codemirror_mode": {
    "name": "ipython",
    "version": 3
   },
   "file_extension": ".py",
   "mimetype": "text/x-python",
   "name": "python",
   "nbconvert_exporter": "python",
   "pygments_lexer": "ipython3",
   "version": "3.8.13"
  }
 },
 "nbformat": 4,
 "nbformat_minor": 4
}
